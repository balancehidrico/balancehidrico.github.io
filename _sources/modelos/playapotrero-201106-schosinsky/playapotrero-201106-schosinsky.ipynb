{
 "cells": [
  {
   "cell_type": "markdown",
   "id": "671c9d02",
   "metadata": {},
   "source": [
    "# Playa Potrero, Santa Cruz, Guanacaste (Zona Bosques 4). Junio 2011."
   ]
  },
  {
   "cell_type": "markdown",
   "id": "2e2ef8ab",
   "metadata": {},
   "source": [
    "## Modelo\n",
    "Gunther Schosinsky {cite}`schosinsky_calculo_2006`"
   ]
  },
  {
   "cell_type": "markdown",
   "id": "fbbecf7e",
   "metadata": {},
   "source": [
    "## Simbología\n",
    "\n",
    "`fc`: Capacidad de Infiltración.  \n",
    "`I`: Infiltración.  \n",
    "`CC`: Capacidad de Campo.  \n",
    "`PM`: Punto de Marchitez.  \n",
    "`PR`: Profundidad de Raices.  \n",
    "`(CC-PM)`: Rango de Agua Disponible.  \n",
    "`DS`: Densidad de Suelo.  \n",
    "`C1`: Factor de ETP, por cierre de estomas, antes que ocurra ETR.  \n",
    "`C2`: Factor de ETP, por cierre de estomas, después que ocurre ETR.  \n",
    "`Kp`: Factor por pendiente.  \n",
    "`Kv`: Factor por vegetación.  \n",
    "`Kfc`: Factor estimado con base a la prueba de infiltración. \n",
    "`P`: Precipitación Media Mensual.  \n",
    "`Pi`: Precipitación que infilta.  \n",
    "`ESC`: Escorrentía Superficial.  \n",
    "`ETP`: Evapotranspiración Potencial.  \n",
    "`ETR`: Evapotranspiración Real.  \n",
    "`HSi`: Humedad de Suelo Inicial.  \n",
    "`HD`: Humedad Disponible.  \n",
    "`HSf`: Humedad de Suelo Final.  \n",
    "`DCC`: Déficit de Capacidad de Campo.  \n",
    "`Rp`: Recarga Potencial.  \n",
    "`NR`: Necesidad de Riego.  \n",
    "`Ret`: Retención de lluvia."
   ]
  },
  {
   "cell_type": "markdown",
   "id": "d5ac8dcf",
   "metadata": {},
   "source": [
    "## Referencias bibliográficas\n",
    "```{bibliography}\n",
    ":filter: docname in docnames\n",
    "```"
   ]
  },
  {
   "cell_type": "code",
   "execution_count": null,
   "id": "792f98b6",
   "metadata": {},
   "outputs": [],
   "source": []
  }
 ],
 "metadata": {
  "kernelspec": {
   "display_name": "Python 3 (ipykernel)",
   "language": "python",
   "name": "python3"
  },
  "language_info": {
   "codemirror_mode": {
    "name": "ipython",
    "version": 3
   },
   "file_extension": ".py",
   "mimetype": "text/x-python",
   "name": "python",
   "nbconvert_exporter": "python",
   "pygments_lexer": "ipython3",
   "version": "3.10.2"
  }
 },
 "nbformat": 4,
 "nbformat_minor": 5
}
