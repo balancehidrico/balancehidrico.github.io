{
 "cells": [
  {
   "cell_type": "markdown",
   "id": "671c9d02",
   "metadata": {},
   "source": [
    "# Playa Potrero, Santa Cruz, Guanacaste (Zona Bosques 4). Junio 2011."
   ]
  },
  {
   "cell_type": "markdown",
   "id": "7f86cbdd",
   "metadata": {},
   "source": [
    "## Resumen\n",
    "\n",
    "Este programa en Python recibe como entradas, para un área geográfica y un período de tiempo determinados:\n",
    "\n",
    "- Un archivo CSV con datos de suelo (ej. capacidad de infiltración, densidad, profundidad de raíces, capacidad de campo).\n",
    "- Un archivo CSV con datos mensuales meteorológicos de precipitación y evapotranspiración.\n",
    "\n",
    "Como salida, el programa genera:\n",
    "- Un modelo de balance hídirico de suelo basado en el método de Gunther Schosinsky {cite}`schosinsky_calculo_2006`, el cual muestra la recarga potencial de acuíferos, y otros datos relacionados, para cada mes del período en el área geográfica de estudio."
   ]
  },
  {
   "cell_type": "markdown",
   "id": "48e02431",
   "metadata": {},
   "source": [
    "## Simbología\n",
    "\n",
    "`fc`: Capacidad de Infiltración.  \n",
    "`I`: Infiltración.  \n",
    "`CC`: Capacidad de Campo.  \n",
    "`PM`: Punto de Marchitez.  \n",
    "`PR`: Profundidad de Raices.  \n",
    "`(CC-PM)`: Rango de Agua Disponible.  \n",
    "`DS`: Densidad de Suelo.  \n",
    "`C1`: Factor de ETP, por cierre de estomas, antes que ocurra ETR.  \n",
    "`C2`: Factor de ETP, por cierre de estomas, después que ocurre ETR.  \n",
    "`Kp`: Factor por pendiente.  \n",
    "`Kv`: Factor por vegetación.  \n",
    "`Kfc`: Factor estimado con base a la prueba de infiltración. \n",
    "`P`: Precipitación Media Mensual.  \n",
    "`Pi`: Precipitación que infilta.  \n",
    "`ESC`: Escorrentía Superficial.  \n",
    "`ETP`: Evapotranspiración Potencial.  \n",
    "`ETR`: Evapotranspiración Real.  \n",
    "`HSi`: Humedad de Suelo Inicial.  \n",
    "`HD`: Humedad Disponible.  \n",
    "`HSf`: Humedad de Suelo Final.  \n",
    "`DCC`: Déficit de Capacidad de Campo.  \n",
    "`Rp`: Recarga Potencial.  \n",
    "`NR`: Necesidad de Riego.  \n",
    "`Ret`: Retención de lluvia."
   ]
  },
  {
   "cell_type": "code",
   "execution_count": 1,
   "id": "2cc75bbb",
   "metadata": {},
   "outputs": [],
   "source": [
    "import math\n",
    "import pandas as pd"
   ]
  },
  {
   "cell_type": "markdown",
   "id": "30c3a9a5",
   "metadata": {},
   "source": [
    "## Datos de suelo"
   ]
  },
  {
   "cell_type": "code",
   "execution_count": 2,
   "id": "ec61a9c9",
   "metadata": {},
   "outputs": [],
   "source": [
    "# Cálculos de textura\n",
    "\n",
    "def kfc(row):\n",
    "    if (row['fc'] < 16):\n",
    "        return 0.0148*row['fc']/16\n",
    "    else:\n",
    "        if (row['fc'] > 1568):\n",
    "            return 1\n",
    "        else:\n",
    "            return 0.267 * math.log(row['fc']) - 0.000154 * (row['fc']) - 0.723\n",
    "        \n",
    "def i(row):\n",
    "    if (row['kp'] + row['kv'] + row['kfc'] > 1):\n",
    "        return 1\n",
    "    else:\n",
    "        return row['kp'] + row['kv'] + row['kfc']\n",
    "    \n",
    "def cc_pm(row):\n",
    "    return row['cc'] - row['pm']"
   ]
  },
  {
   "cell_type": "code",
   "execution_count": 3,
   "id": "da86aa67",
   "metadata": {},
   "outputs": [
    {
     "data": {
      "text/html": [
       "<div>\n",
       "<style scoped>\n",
       "    .dataframe tbody tr th:only-of-type {\n",
       "        vertical-align: middle;\n",
       "    }\n",
       "\n",
       "    .dataframe tbody tr th {\n",
       "        vertical-align: top;\n",
       "    }\n",
       "\n",
       "    .dataframe thead th {\n",
       "        text-align: right;\n",
       "    }\n",
       "</style>\n",
       "<table border=\"1\" class=\"dataframe\">\n",
       "  <thead>\n",
       "    <tr style=\"text-align: right;\">\n",
       "      <th></th>\n",
       "      <th>fc</th>\n",
       "      <th>kp</th>\n",
       "      <th>kv</th>\n",
       "      <th>kfc</th>\n",
       "      <th>i</th>\n",
       "      <th>ds</th>\n",
       "      <th>pr</th>\n",
       "      <th>hsi</th>\n",
       "      <th>cc</th>\n",
       "      <th>pm</th>\n",
       "      <th>cc_pm</th>\n",
       "      <th>mes_inicial</th>\n",
       "      <th>lluvia_retenida</th>\n",
       "    </tr>\n",
       "  </thead>\n",
       "  <tbody>\n",
       "    <tr>\n",
       "      <th>0</th>\n",
       "      <td>18.41</td>\n",
       "      <td>0.06</td>\n",
       "      <td>0.1</td>\n",
       "      <td>0.051908</td>\n",
       "      <td>0.211908</td>\n",
       "      <td>1.35</td>\n",
       "      <td>3000</td>\n",
       "      <td>860</td>\n",
       "      <td>27</td>\n",
       "      <td>14.67</td>\n",
       "      <td>12.33</td>\n",
       "      <td>11</td>\n",
       "      <td>0.2</td>\n",
       "    </tr>\n",
       "  </tbody>\n",
       "</table>\n",
       "</div>"
      ],
      "text/plain": [
       "      fc    kp   kv       kfc         i    ds    pr  hsi  cc     pm  cc_pm  \\\n",
       "0  18.41  0.06  0.1  0.051908  0.211908  1.35  3000  860  27  14.67  12.33   \n",
       "\n",
       "   mes_inicial  lluvia_retenida  \n",
       "0           11              0.2  "
      ]
     },
     "execution_count": 3,
     "metadata": {},
     "output_type": "execute_result"
    }
   ],
   "source": [
    "textura = pd.read_csv(\"datos/textura.csv\")\n",
    "\n",
    "textura['kfc'] = textura.apply (lambda row: kfc(row), axis=1)\n",
    "textura['i'] = textura.apply (lambda row: i(row), axis=1)\n",
    "textura['cc_pm'] = textura.apply (lambda row: cc_pm(row), axis=1)\n",
    "\n",
    "textura"
   ]
  },
  {
   "cell_type": "code",
   "execution_count": 4,
   "id": "e61d54f4",
   "metadata": {},
   "outputs": [
    {
     "name": "stdout",
     "output_type": "stream",
     "text": [
      "lluvia_retenida = 0.2\n"
     ]
    }
   ],
   "source": [
    "lluvia_retenida = textura.iloc[0, 12]\n",
    "print(\"lluvia_retenida =\", lluvia_retenida)"
   ]
  },
  {
   "cell_type": "code",
   "execution_count": 5,
   "id": "6c7a49c0",
   "metadata": {},
   "outputs": [
    {
     "name": "stdout",
     "output_type": "stream",
     "text": [
      "i = 0.21190755673041148\n"
     ]
    }
   ],
   "source": [
    "i = textura.iloc[0, 4]\n",
    "print(\"i =\", i)"
   ]
  },
  {
   "cell_type": "code",
   "execution_count": 6,
   "id": "a4610f25",
   "metadata": {},
   "outputs": [
    {
     "name": "stdout",
     "output_type": "stream",
     "text": [
      "mes_inicial = 11\n"
     ]
    }
   ],
   "source": [
    "mes_inicial = textura.iloc[0, 11]\n",
    "print(\"mes_inicial =\", mes_inicial)"
   ]
  },
  {
   "cell_type": "code",
   "execution_count": 7,
   "id": "7bd6fe50",
   "metadata": {},
   "outputs": [
    {
     "name": "stdout",
     "output_type": "stream",
     "text": [
      "hsi = 860\n"
     ]
    }
   ],
   "source": [
    "hsi = textura.iloc[0, 7]\n",
    "print(\"hsi =\", hsi)"
   ]
  },
  {
   "cell_type": "markdown",
   "id": "74688b41",
   "metadata": {},
   "source": [
    "## Datos meteorológicos"
   ]
  },
  {
   "cell_type": "code",
   "execution_count": 8,
   "id": "124a5bee",
   "metadata": {},
   "outputs": [],
   "source": [
    "# Cálculos de meses\n",
    "\n",
    "def ret(row):\n",
    "    if (row['p'] <= 5):\n",
    "        return row['p']\n",
    "    else:\n",
    "        if (row['p'] * lluvia_retenida > 5):\n",
    "            return row['p']*lluvia_retenida\n",
    "        else:\n",
    "            return 5\n",
    "        \n",
    "def pi(row):\n",
    "    return (row['p'] - row['ret']) * i\n",
    "\n",
    "def esc(row):\n",
    "    return row['p'] - row['ret'] - row['pi']\n",
    "\n",
    "def etr(row):\n",
    "    if (row['hd'] >= (row['c1'] + row['c2'])/2 * row['etp']):\n",
    "        return (row['c1'] + row['c2'])/2 * row['etp']\n",
    "    else:\n",
    "        row['hd']\n",
    "        \n",
    "def rp(row):\n",
    "    return row['pi'] + row['hsi'] - row['hsf'] - row['etr']\n",
    "\n",
    "def nr(row):\n",
    "    return row['dcc'] - row['etr'] + row['etp']"
   ]
  },
  {
   "cell_type": "code",
   "execution_count": 9,
   "id": "794ad42b",
   "metadata": {},
   "outputs": [],
   "source": [
    "meses = pd.read_csv(\"datos/meses.csv\")\n",
    "\n",
    "meses['ret'] = meses.apply(lambda row:ret(row), axis=1)\n",
    "meses['pi'] = meses.apply(lambda row:pi(row), axis=1)\n",
    "meses['esc'] = meses.apply(lambda row:esc(row), axis=1)\n",
    "\n",
    "meses['etr'] = meses.apply(lambda row:etr(row), axis=1)\n",
    "\n",
    "meses['rp'] = meses.apply(lambda row:rp(row), axis=1)\n",
    "meses['nr'] = meses.apply(lambda row:nr(row), axis=1)"
   ]
  },
  {
   "cell_type": "markdown",
   "id": "bb07616a",
   "metadata": {},
   "source": [
    "## Modelo de balance hídrico"
   ]
  },
  {
   "cell_type": "code",
   "execution_count": 10,
   "id": "ece3d09d",
   "metadata": {},
   "outputs": [
    {
     "data": {
      "text/html": [
       "<div>\n",
       "<style scoped>\n",
       "    .dataframe tbody tr th:only-of-type {\n",
       "        vertical-align: middle;\n",
       "    }\n",
       "\n",
       "    .dataframe tbody tr th {\n",
       "        vertical-align: top;\n",
       "    }\n",
       "\n",
       "    .dataframe thead th {\n",
       "        text-align: right;\n",
       "    }\n",
       "</style>\n",
       "<table border=\"1\" class=\"dataframe\">\n",
       "  <thead>\n",
       "    <tr style=\"text-align: right;\">\n",
       "      <th></th>\n",
       "      <th>mes</th>\n",
       "      <th>p</th>\n",
       "      <th>ret</th>\n",
       "      <th>pi</th>\n",
       "      <th>esc</th>\n",
       "      <th>etp</th>\n",
       "      <th>hsi</th>\n",
       "      <th>c1</th>\n",
       "      <th>c2</th>\n",
       "      <th>hd</th>\n",
       "      <th>etr</th>\n",
       "      <th>hsf</th>\n",
       "      <th>dcc</th>\n",
       "      <th>rp</th>\n",
       "      <th>nr</th>\n",
       "    </tr>\n",
       "  </thead>\n",
       "  <tbody>\n",
       "    <tr>\n",
       "      <th>0</th>\n",
       "      <td>1</td>\n",
       "      <td>298.00</td>\n",
       "      <td>59.600</td>\n",
       "      <td>50.518762</td>\n",
       "      <td>187.881238</td>\n",
       "      <td>139.15</td>\n",
       "      <td>796.490421</td>\n",
       "      <td>0.506391</td>\n",
       "      <td>0.365284</td>\n",
       "      <td>252.874183</td>\n",
       "      <td>60.646789</td>\n",
       "      <td>786.362394</td>\n",
       "      <td>307.137606</td>\n",
       "      <td>-1.421085e-13</td>\n",
       "      <td>385.640817</td>\n",
       "    </tr>\n",
       "    <tr>\n",
       "      <th>1</th>\n",
       "      <td>2</td>\n",
       "      <td>316.00</td>\n",
       "      <td>63.200</td>\n",
       "      <td>53.570230</td>\n",
       "      <td>199.229770</td>\n",
       "      <td>128.51</td>\n",
       "      <td>786.362394</td>\n",
       "      <td>0.492220</td>\n",
       "      <td>0.365549</td>\n",
       "      <td>245.797624</td>\n",
       "      <td>55.115972</td>\n",
       "      <td>784.816653</td>\n",
       "      <td>308.683347</td>\n",
       "      <td>-2.700062e-13</td>\n",
       "      <td>382.077376</td>\n",
       "    </tr>\n",
       "    <tr>\n",
       "      <th>2</th>\n",
       "      <td>3</td>\n",
       "      <td>153.71</td>\n",
       "      <td>30.742</td>\n",
       "      <td>26.057848</td>\n",
       "      <td>96.910152</td>\n",
       "      <td>148.91</td>\n",
       "      <td>784.816653</td>\n",
       "      <td>0.434030</td>\n",
       "      <td>0.304603</td>\n",
       "      <td>216.739501</td>\n",
       "      <td>54.994934</td>\n",
       "      <td>755.879567</td>\n",
       "      <td>337.620433</td>\n",
       "      <td>4.902745e-13</td>\n",
       "      <td>431.535499</td>\n",
       "    </tr>\n",
       "    <tr>\n",
       "      <th>3</th>\n",
       "      <td>4</td>\n",
       "      <td>139.00</td>\n",
       "      <td>27.800</td>\n",
       "      <td>23.564120</td>\n",
       "      <td>87.635880</td>\n",
       "      <td>149.42</td>\n",
       "      <td>755.879567</td>\n",
       "      <td>0.371089</td>\n",
       "      <td>0.260052</td>\n",
       "      <td>185.308687</td>\n",
       "      <td>47.152482</td>\n",
       "      <td>732.291206</td>\n",
       "      <td>361.208794</td>\n",
       "      <td>-8.455459e-13</td>\n",
       "      <td>463.476313</td>\n",
       "    </tr>\n",
       "    <tr>\n",
       "      <th>4</th>\n",
       "      <td>5</td>\n",
       "      <td>336.50</td>\n",
       "      <td>67.300</td>\n",
       "      <td>57.045514</td>\n",
       "      <td>212.154486</td>\n",
       "      <td>156.87</td>\n",
       "      <td>732.291206</td>\n",
       "      <td>0.390900</td>\n",
       "      <td>0.268103</td>\n",
       "      <td>195.201720</td>\n",
       "      <td>51.688891</td>\n",
       "      <td>737.647829</td>\n",
       "      <td>355.852171</td>\n",
       "      <td>5.542233e-13</td>\n",
       "      <td>461.033280</td>\n",
       "    </tr>\n",
       "    <tr>\n",
       "      <th>5</th>\n",
       "      <td>6</td>\n",
       "      <td>398.00</td>\n",
       "      <td>79.600</td>\n",
       "      <td>67.471366</td>\n",
       "      <td>250.928634</td>\n",
       "      <td>151.15</td>\n",
       "      <td>737.647829</td>\n",
       "      <td>0.422505</td>\n",
       "      <td>0.294619</td>\n",
       "      <td>210.984195</td>\n",
       "      <td>54.196667</td>\n",
       "      <td>750.922528</td>\n",
       "      <td>342.577472</td>\n",
       "      <td>-2.771117e-13</td>\n",
       "      <td>439.530805</td>\n",
       "    </tr>\n",
       "    <tr>\n",
       "      <th>6</th>\n",
       "      <td>7</td>\n",
       "      <td>387.25</td>\n",
       "      <td>77.450</td>\n",
       "      <td>65.648961</td>\n",
       "      <td>244.151039</td>\n",
       "      <td>155.32</td>\n",
       "      <td>750.922528</td>\n",
       "      <td>0.445439</td>\n",
       "      <td>0.306892</td>\n",
       "      <td>222.436489</td>\n",
       "      <td>58.425974</td>\n",
       "      <td>758.145515</td>\n",
       "      <td>335.354485</td>\n",
       "      <td>-4.263256e-13</td>\n",
       "      <td>432.248511</td>\n",
       "    </tr>\n",
       "    <tr>\n",
       "      <th>7</th>\n",
       "      <td>8</td>\n",
       "      <td>267.00</td>\n",
       "      <td>53.400</td>\n",
       "      <td>45.263454</td>\n",
       "      <td>168.336546</td>\n",
       "      <td>153.39</td>\n",
       "      <td>758.145515</td>\n",
       "      <td>0.419080</td>\n",
       "      <td>0.290351</td>\n",
       "      <td>209.273969</td>\n",
       "      <td>54.409844</td>\n",
       "      <td>748.999124</td>\n",
       "      <td>344.500876</td>\n",
       "      <td>4.334311e-13</td>\n",
       "      <td>443.481031</td>\n",
       "    </tr>\n",
       "    <tr>\n",
       "      <th>8</th>\n",
       "      <td>9</td>\n",
       "      <td>297.33</td>\n",
       "      <td>59.466</td>\n",
       "      <td>50.405179</td>\n",
       "      <td>187.458821</td>\n",
       "      <td>144.24</td>\n",
       "      <td>748.999124</td>\n",
       "      <td>0.411061</td>\n",
       "      <td>0.292327</td>\n",
       "      <td>205.269304</td>\n",
       "      <td>50.728324</td>\n",
       "      <td>748.675980</td>\n",
       "      <td>344.824020</td>\n",
       "      <td>8.526513e-14</td>\n",
       "      <td>438.335696</td>\n",
       "    </tr>\n",
       "    <tr>\n",
       "      <th>9</th>\n",
       "      <td>10</td>\n",
       "      <td>363.00</td>\n",
       "      <td>72.600</td>\n",
       "      <td>61.537954</td>\n",
       "      <td>228.862046</td>\n",
       "      <td>144.28</td>\n",
       "      <td>748.675980</td>\n",
       "      <td>0.432707</td>\n",
       "      <td>0.307687</td>\n",
       "      <td>216.078934</td>\n",
       "      <td>53.412022</td>\n",
       "      <td>756.801912</td>\n",
       "      <td>336.698088</td>\n",
       "      <td>9.237056e-14</td>\n",
       "      <td>427.566066</td>\n",
       "    </tr>\n",
       "    <tr>\n",
       "      <th>10</th>\n",
       "      <td>11</td>\n",
       "      <td>332.75</td>\n",
       "      <td>66.550</td>\n",
       "      <td>56.409792</td>\n",
       "      <td>209.790208</td>\n",
       "      <td>135.39</td>\n",
       "      <td>860.000000</td>\n",
       "      <td>0.645369</td>\n",
       "      <td>0.470394</td>\n",
       "      <td>322.274792</td>\n",
       "      <td>75.531584</td>\n",
       "      <td>840.878208</td>\n",
       "      <td>252.621792</td>\n",
       "      <td>-4.263256e-14</td>\n",
       "      <td>312.480208</td>\n",
       "    </tr>\n",
       "    <tr>\n",
       "      <th>11</th>\n",
       "      <td>12</td>\n",
       "      <td>111.00</td>\n",
       "      <td>22.200</td>\n",
       "      <td>18.817391</td>\n",
       "      <td>69.982609</td>\n",
       "      <td>137.89</td>\n",
       "      <td>840.878208</td>\n",
       "      <td>0.531797</td>\n",
       "      <td>0.384951</td>\n",
       "      <td>265.560599</td>\n",
       "      <td>63.205177</td>\n",
       "      <td>796.490421</td>\n",
       "      <td>297.009579</td>\n",
       "      <td>3.765876e-13</td>\n",
       "      <td>371.694401</td>\n",
       "    </tr>\n",
       "  </tbody>\n",
       "</table>\n",
       "</div>"
      ],
      "text/plain": [
       "    mes       p     ret         pi         esc     etp         hsi        c1  \\\n",
       "0     1  298.00  59.600  50.518762  187.881238  139.15  796.490421  0.506391   \n",
       "1     2  316.00  63.200  53.570230  199.229770  128.51  786.362394  0.492220   \n",
       "2     3  153.71  30.742  26.057848   96.910152  148.91  784.816653  0.434030   \n",
       "3     4  139.00  27.800  23.564120   87.635880  149.42  755.879567  0.371089   \n",
       "4     5  336.50  67.300  57.045514  212.154486  156.87  732.291206  0.390900   \n",
       "5     6  398.00  79.600  67.471366  250.928634  151.15  737.647829  0.422505   \n",
       "6     7  387.25  77.450  65.648961  244.151039  155.32  750.922528  0.445439   \n",
       "7     8  267.00  53.400  45.263454  168.336546  153.39  758.145515  0.419080   \n",
       "8     9  297.33  59.466  50.405179  187.458821  144.24  748.999124  0.411061   \n",
       "9    10  363.00  72.600  61.537954  228.862046  144.28  748.675980  0.432707   \n",
       "10   11  332.75  66.550  56.409792  209.790208  135.39  860.000000  0.645369   \n",
       "11   12  111.00  22.200  18.817391   69.982609  137.89  840.878208  0.531797   \n",
       "\n",
       "          c2          hd        etr         hsf         dcc            rp  \\\n",
       "0   0.365284  252.874183  60.646789  786.362394  307.137606 -1.421085e-13   \n",
       "1   0.365549  245.797624  55.115972  784.816653  308.683347 -2.700062e-13   \n",
       "2   0.304603  216.739501  54.994934  755.879567  337.620433  4.902745e-13   \n",
       "3   0.260052  185.308687  47.152482  732.291206  361.208794 -8.455459e-13   \n",
       "4   0.268103  195.201720  51.688891  737.647829  355.852171  5.542233e-13   \n",
       "5   0.294619  210.984195  54.196667  750.922528  342.577472 -2.771117e-13   \n",
       "6   0.306892  222.436489  58.425974  758.145515  335.354485 -4.263256e-13   \n",
       "7   0.290351  209.273969  54.409844  748.999124  344.500876  4.334311e-13   \n",
       "8   0.292327  205.269304  50.728324  748.675980  344.824020  8.526513e-14   \n",
       "9   0.307687  216.078934  53.412022  756.801912  336.698088  9.237056e-14   \n",
       "10  0.470394  322.274792  75.531584  840.878208  252.621792 -4.263256e-14   \n",
       "11  0.384951  265.560599  63.205177  796.490421  297.009579  3.765876e-13   \n",
       "\n",
       "            nr  \n",
       "0   385.640817  \n",
       "1   382.077376  \n",
       "2   431.535499  \n",
       "3   463.476313  \n",
       "4   461.033280  \n",
       "5   439.530805  \n",
       "6   432.248511  \n",
       "7   443.481031  \n",
       "8   438.335696  \n",
       "9   427.566066  \n",
       "10  312.480208  \n",
       "11  371.694401  "
      ]
     },
     "execution_count": 10,
     "metadata": {},
     "output_type": "execute_result"
    }
   ],
   "source": [
    "meses"
   ]
  },
  {
   "cell_type": "code",
   "execution_count": 11,
   "id": "b7465610",
   "metadata": {},
   "outputs": [
    {
     "data": {
      "text/plain": [
       "<matplotlib.legend.Legend at 0x7f4396f62fe0>"
      ]
     },
     "execution_count": 11,
     "metadata": {},
     "output_type": "execute_result"
    },
    {
     "data": {
      "image/png": "[encoded data removed]",
      "text/plain": [
       "<Figure size 1080x504 with 1 Axes>"
      ]
     },
     "metadata": {
      "filenames": {
       "image/png": "/home/mfvargas/balancehidrico/balancehidrico.github.io/_build/jupyter_execute/modelos/playapotrero-201106-schosinsky/playapotrero-201106-schosinsky_16_1.png"
      },
      "needs_background": "light"
     },
     "output_type": "display_data"
    }
   ],
   "source": [
    "meses.plot(kind='line', x='mes', y=meses.columns[[1,2,3,4,5,6,9,10,11,12,13,14]], figsize=(15,7)).legend(loc='upper left')"
   ]
  },
  {
   "cell_type": "markdown",
   "id": "d5ac8dcf",
   "metadata": {},
   "source": [
    "## Referencias bibliográficas\n",
    "```{bibliography}\n",
    ":filter: docname in docnames\n",
    "```"
   ]
  },
  {
   "cell_type": "code",
   "execution_count": null,
   "id": "792f98b6",
   "metadata": {},
   "outputs": [],
   "source": []
  }
 ],
 "metadata": {
  "kernelspec": {
   "display_name": "Python 3 (ipykernel)",
   "language": "python",
   "name": "python3"
  },
  "language_info": {
   "codemirror_mode": {
    "name": "ipython",
    "version": 3
   },
   "file_extension": ".py",
   "mimetype": "text/x-python",
   "name": "python",
   "nbconvert_exporter": "python",
   "pygments_lexer": "ipython3",
   "version": "3.10.2"
  }
 },
 "nbformat": 4,
 "nbformat_minor": 5
}